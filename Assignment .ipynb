{
 "cells": [
  {
   "cell_type": "code",
   "execution_count": 1,
   "metadata": {},
   "outputs": [
    {
     "data": {
      "text/plain": [
       "4"
      ]
     },
     "execution_count": 1,
     "metadata": {},
     "output_type": "execute_result"
    }
   ],
   "source": [
    "2+2\n"
   ]
  },
  {
   "cell_type": "code",
   "execution_count": 6,
   "metadata": {},
   "outputs": [],
   "source": [
    "a= [5,10]"
   ]
  },
  {
   "cell_type": "code",
   "execution_count": 107,
   "metadata": {
    "collapsed": true
   },
   "outputs": [
    {
     "name": "stdout",
     "output_type": "stream",
     "text": [
      "2002 , 2009 , 2016 , 2023 , 2037 , 2044 , 2051 , 2058 , 2072 , 2079 , 2086 , 2093 , 2107 , 2114 , 2121 , 2128 , 2142 , 2149 , 2156 , 2163 , 2177 , 2184 , 2191 , 2198 , 2212 , 2219 , 2226 , 2233 , 2247 , 2254 , 2261 , 2268 , 2282 , 2289 , 2296 , 2303 , 2317 , 2324 , 2331 , 2338 , 2352 , 2359 , 2366 , 2373 , 2387 , 2394 , 2401 , 2408 , 2422 , 2429 , 2436 , 2443 , 2457 , 2464 , 2471 , 2478 , 2492 , 2499 , 2506 , 2513 , 2527 , 2534 , 2541 , 2548 , 2562 , 2569 , 2576 , 2583 , 2597 , 2604 , 2611 , 2618 , 2632 , 2639 , 2646 , 2653 , 2667 , 2674 , 2681 , 2688 , 2702 , 2709 , 2716 , 2723 , 2737 , 2744 , 2751 , 2758 , 2772 , 2779 , 2786 , 2793 , 2807 , 2814 , 2821 , 2828 , 2842 , 2849 , 2856 , 2863 , 2877 , 2884 , 2891 , 2898 , 2912 , 2919 , 2926 , 2933 , 2947 , 2954 , 2961 , 2968 , 2982 , 2989 , 2996 , 3003 , 3017 , 3024 , 3031 , 3038 , 3052 , 3059 , 3066 , 3073 , 3087 , 3094 , 3101 , 3108 , 3122 , 3129 , 3136 , 3143 , 3157 , 3164 , 3171 , 3178 , 3192 , 3199 , \n"
     ]
    }
   ],
   "source": []
  },
  {
   "cell_type": "code",
   "execution_count": 108,
   "metadata": {
    "collapsed": true
   },
   "outputs": [
    {
     "name": "stdout",
     "output_type": "stream",
     "text": [
      "[2002, 2009, 2016, 2023, 2037, 2044, 2051, 2058, 2072, 2079, 2086, 2093, 2107, 2114, 2121, 2128, 2142, 2149, 2156, 2163, 2177, 2184, 2191, 2198, 2212, 2219, 2226, 2233, 2247, 2254, 2261, 2268, 2282, 2289, 2296, 2303, 2317, 2324, 2331, 2338, 2352, 2359, 2366, 2373, 2387, 2394, 2401, 2408, 2422, 2429, 2436, 2443, 2457, 2464, 2471, 2478, 2492, 2499, 2506, 2513, 2527, 2534, 2541, 2548, 2562, 2569, 2576, 2583, 2597, 2604, 2611, 2618, 2632, 2639, 2646, 2653, 2667, 2674, 2681, 2688, 2702, 2709, 2716, 2723, 2737, 2744, 2751, 2758, 2772, 2779, 2786, 2793, 2807, 2814, 2821, 2828, 2842, 2849, 2856, 2863, 2877, 2884, 2891, 2898, 2912, 2919, 2926, 2933, 2947, 2954, 2961, 2968, 2982, 2989, 2996, 3003, 3017, 3024, 3031, 3038, 3052, 3059, 3066, 3073, 3087, 3094, 3101, 3108, 3122, 3129, 3136, 3143, 3157, 3164, 3171, 3178, 3192, 3199]\n"
     ]
    }
   ],
   "source": [
    "#  Q2-Write a program which will find all such numbers which are divisible by 7 but are not a multiple\n",
    "# of 5, between 2000 and 3200 (both included). The numbers obtained should be printed in a\n",
    "# comma-separated sequence on a single line.-\n",
    "\n",
    "\n",
    " #List Approach#\n",
    "    \n",
    "result=[]\n",
    "for x in range(2000,3200):\n",
    "        if x % 7 ==0 and x %5 != 0:\n",
    "            result.append(x)\n",
    "print(result)\n",
    "            "
   ]
  },
  {
   "cell_type": "code",
   "execution_count": 109,
   "metadata": {
    "collapsed": true
   },
   "outputs": [
    {
     "name": "stdout",
     "output_type": "stream",
     "text": [
      "2002 , 2009 , 2016 , 2023 , 2037 , 2044 , 2051 , 2058 , 2072 , 2079 , 2086 , 2093 , 2107 , 2114 , 2121 , 2128 , 2142 , 2149 , 2156 , 2163 , 2177 , 2184 , 2191 , 2198 , 2212 , 2219 , 2226 , 2233 , 2247 , 2254 , 2261 , 2268 , 2282 , 2289 , 2296 , 2303 , 2317 , 2324 , 2331 , 2338 , 2352 , 2359 , 2366 , 2373 , 2387 , 2394 , 2401 , 2408 , 2422 , 2429 , 2436 , 2443 , 2457 , 2464 , 2471 , 2478 , 2492 , 2499 , 2506 , 2513 , 2527 , 2534 , 2541 , 2548 , 2562 , 2569 , 2576 , 2583 , 2597 , 2604 , 2611 , 2618 , 2632 , 2639 , 2646 , 2653 , 2667 , 2674 , 2681 , 2688 , 2702 , 2709 , 2716 , 2723 , 2737 , 2744 , 2751 , 2758 , 2772 , 2779 , 2786 , 2793 , 2807 , 2814 , 2821 , 2828 , 2842 , 2849 , 2856 , 2863 , 2877 , 2884 , 2891 , 2898 , 2912 , 2919 , 2926 , 2933 , 2947 , 2954 , 2961 , 2968 , 2982 , 2989 , 2996 , 3003 , 3017 , 3024 , 3031 , 3038 , 3052 , 3059 , 3066 , 3073 , 3087 , 3094 , 3101 , 3108 , 3122 , 3129 , 3136 , 3143 , 3157 , 3164 , 3171 , 3178 , 3192 , 3199 , \n"
     ]
    }
   ],
   "source": [
    "  #String Approach#\n",
    "    \n",
    "\n",
    "result=''\n",
    "for x in range(2000,3200):\n",
    "        if x % 7 ==0 and x %5 != 0:\n",
    "            result += str(x) + ' , '\n",
    "print(result)           "
   ]
  },
  {
   "cell_type": "code",
   "execution_count": 50,
   "metadata": {
    "collapsed": true
   },
   "outputs": [
    {
     "name": "stdout",
     "output_type": "stream",
     "text": [
      "Please give your First name Shahid\n",
      "Please giv your Last name Afroze\n"
     ]
    },
    {
     "data": {
      "text/plain": [
       "'Your name in Reverse Order is Afroze Shahid'"
      ]
     },
     "execution_count": 50,
     "metadata": {},
     "output_type": "execute_result"
    }
   ],
   "source": [
    "# Q3Write a Python program to accept the user's first and last name and then getting them printed in\n",
    "# the the reverse order with a space between first name and last name.\n",
    "\n",
    "\n",
    "a= input('Please give your First name ')\n",
    "b= input('Please giv your Last name ')\n",
    "\"Your name in Reverse Order is {} {}\".format(b, a)\n",
    "\n",
    "# Alternate 1\n",
    "name = [\"Saima\", \"Karim\"]\n",
    "name.reverse()\n",
    "print(name)\n",
    "\n",
    "# ALternate\n",
    "name = [\"Saima\", \"Karim\"]\n",
    "name[::-1]"
   ]
  },
  {
   "cell_type": "code",
   "execution_count": 73,
   "metadata": {
    "collapsed": true
   },
   "outputs": [
    {
     "name": "stdout",
     "output_type": "stream",
     "text": [
      "20.933333333333334\n"
     ]
    }
   ],
   "source": [
    "# Q3. Write a Python program to find the volume of a sphere with diameter 12 cm.\n",
    "      # diameter = 12\n",
    "print(float(4/3)*3.14*float(6^3))"
   ]
  },
  {
   "cell_type": "code",
   "execution_count": 81,
   "metadata": {
    "collapsed": true
   },
   "outputs": [
    {
     "name": "stdout",
     "output_type": "stream",
     "text": [
      "Input some comma seprated numbers : 1,2,3,9\n",
      "List :  ['1', '2', '3', '9']\n"
     ]
    }
   ],
   "source": [
    "# Q4. Write a program which accepts a sequence of comma-separated numbers from console and\n",
    "# generate a list.\n",
    "\n",
    "values = input(\"Input some comma seprated numbers : \")\n",
    "list = values.split(\",\")\n",
    "print('List : ',list)\n",
    "\n"
   ]
  },
  {
   "cell_type": "code",
   "execution_count": 94,
   "metadata": {
    "collapsed": true
   },
   "outputs": [
    {
     "name": "stdout",
     "output_type": "stream",
     "text": [
      "Type any word : Bobu\n",
      "Reverse :  uboB\n"
     ]
    }
   ],
   "source": [
    "# Q6. Write a Python program to reverse a word after accepting the input from the user.\n",
    "\n",
    "Word = input(\"Type any word : \")\n",
    "Rev = Word[::-1]\n",
    "print('Reverse : ',Rev)"
   ]
  },
  {
   "cell_type": "code",
   "execution_count": null,
   "metadata": {},
   "outputs": [],
   "source": [
    "#######  6 may class"
   ]
  },
  {
   "cell_type": "code",
   "execution_count": null,
   "metadata": {},
   "outputs": [],
   "source": []
  },
  {
   "cell_type": "markdown",
   "metadata": {},
   "source": [
    "# Tuple\n",
    "\n",
    "1. slicing and indexing are same in list and tuble\n",
    "2. Mutation(item assignment) is not possible in Tuple\n",
    "3.Tuple iteration is diffrent please check\n",
    "4. In Tuple on concatenate is possiple (ex- t1 + t2)\n",
    "5. For insertion or other operation or manipulation- type conversion is the best way\n",
    "6.string is also immutable\n"
   ]
  },
  {
   "cell_type": "code",
   "execution_count": 114,
   "metadata": {
    "collapsed": true
   },
   "outputs": [
    {
     "data": {
      "text/plain": [
       "tuple"
      ]
     },
     "execution_count": 114,
     "metadata": {},
     "output_type": "execute_result"
    }
   ],
   "source": [
    "t = (1, 71, 8, 9)\n",
    "type(t)\n"
   ]
  },
  {
   "cell_type": "code",
   "execution_count": 115,
   "metadata": {
    "scrolled": true
   },
   "outputs": [
    {
     "name": "stdout",
     "output_type": "stream",
     "text": [
      "(1, 71, 8, 9)\n",
      "(1, 71, 8, 9)\n",
      "(1, 71, 8, 9)\n",
      "(1, 71, 8, 9)\n"
     ]
    }
   ],
   "source": [
    "# Tuple \n",
    "for i in t:\n",
    "    print(t)"
   ]
  },
  {
   "cell_type": "code",
   "execution_count": 116,
   "metadata": {},
   "outputs": [
    {
     "name": "stdout",
     "output_type": "stream",
     "text": [
      "1\n",
      "71\n",
      "8\n",
      "9\n"
     ]
    }
   ],
   "source": [
    "for i in t:\n",
    "    print(i)"
   ]
  },
  {
   "cell_type": "code",
   "execution_count": 117,
   "metadata": {},
   "outputs": [
    {
     "name": "stdout",
     "output_type": "stream",
     "text": [
      "1\n",
      "71\n",
      "8\n",
      "9\n"
     ]
    }
   ],
   "source": [
    "for i in range(len(t)):\n",
    "    print(t[i])"
   ]
  },
  {
   "cell_type": "code",
   "execution_count": 119,
   "metadata": {},
   "outputs": [],
   "source": [
    "t\n",
    "t2 = (3,7)"
   ]
  },
  {
   "cell_type": "code",
   "execution_count": 121,
   "metadata": {
    "collapsed": true
   },
   "outputs": [
    {
     "ename": "TypeError",
     "evalue": "can only concatenate tuple (not \"int\") to tuple",
     "output_type": "error",
     "traceback": [
      "\u001b[1;31m---------------------------------------------------------------------------\u001b[0m",
      "\u001b[1;31mTypeError\u001b[0m                                 Traceback (most recent call last)",
      "\u001b[1;32m<ipython-input-121-a18e5b75b3a8>\u001b[0m in \u001b[0;36m<module>\u001b[1;34m\u001b[0m\n\u001b[1;32m----> 1\u001b[1;33m \u001b[0mt\u001b[0m \u001b[1;33m+\u001b[0m \u001b[1;36m1\u001b[0m\u001b[1;33m\u001b[0m\u001b[1;33m\u001b[0m\u001b[0m\n\u001b[0m",
      "\u001b[1;31mTypeError\u001b[0m: can only concatenate tuple (not \"int\") to tuple"
     ]
    }
   ],
   "source": [
    "t + 1"
   ]
  },
  {
   "cell_type": "markdown",
   "metadata": {},
   "source": [
    "# Set\n",
    "1. it removes the duplicate and shows only unique values in output\n",
    "2. application in nlp..sentiment analysis\n",
    "3.case sensitive\n",
    "4.accepts hetrogenous data\n",
    "5.no indexing\n",
    "6. on iteration the unique data and in ascending order also called as ordered in case th elements are homogenous if the elements are hetrogenous the output behaves as per the operation defination that is unordered\n",
    "7. it takes list and tuple as an argument\n",
    "8. for data manipulation type conversion is done\n",
    "9.empty curly bracket, type() will show \"dict\", however upon assigning elements in the curly bracket it will show \"set\" on type() and also behaves lik tuple example unique sorted value\n",
    "10.pop function removes element at 0th index, but no index pop operation present like list\n",
    "11. some example behave in order ---query?\n",
    "12. data manipulation with type conversion\n",
    "\n",
    "\n"
   ]
  },
  {
   "cell_type": "code",
   "execution_count": 193,
   "metadata": {},
   "outputs": [],
   "source": [
    "# List as an argument in set\n",
    "s_list  = set([1,1,2,3,4,57,7,7,8,8,8,9,9,9,0,0,0,9])\n",
    "\n",
    "# Tuple as an argument in set\n",
    "s_tuple  = set((1,1,2,3,4,57,7,7,8,8,8,9,9,9,0,53,53,53,-1,289,0,9))\n",
    "\n"
   ]
  },
  {
   "cell_type": "code",
   "execution_count": 195,
   "metadata": {},
   "outputs": [
    {
     "data": {
      "text/plain": [
       "set"
      ]
     },
     "execution_count": 195,
     "metadata": {},
     "output_type": "execute_result"
    }
   ],
   "source": [
    "type(s_tuple)"
   ]
  },
  {
   "cell_type": "code",
   "execution_count": 127,
   "metadata": {
    "collapsed": true
   },
   "outputs": [
    {
     "name": "stdout",
     "output_type": "stream",
     "text": [
      "0\n",
      "1\n",
      "2\n",
      "3\n",
      "4\n",
      "7\n",
      "8\n",
      "9\n",
      "57\n"
     ]
    }
   ],
   "source": [
    "# iterates the unique data and in ascending order\n",
    "for i in s:\n",
    "    print(i)\n",
    "    "
   ]
  },
  {
   "cell_type": "code",
   "execution_count": 137,
   "metadata": {},
   "outputs": [
    {
     "data": {
      "text/plain": [
       "{}"
      ]
     },
     "execution_count": 137,
     "metadata": {},
     "output_type": "execute_result"
    }
   ],
   "source": [
    "# empty curly bracket, type() will show \"dict\", however upon assigning elements in the \n",
    "# curly bracket it will show \"set\" on type() and also behaves lik tuple ex unique sorted value\n",
    "b = {}\n",
    "\n"
   ]
  },
  {
   "cell_type": "code",
   "execution_count": 143,
   "metadata": {},
   "outputs": [
    {
     "data": {
      "text/plain": [
       "dict"
      ]
     },
     "execution_count": 143,
     "metadata": {},
     "output_type": "execute_result"
    }
   ],
   "source": [
    "type(b)"
   ]
  },
  {
   "cell_type": "code",
   "execution_count": 144,
   "metadata": {},
   "outputs": [
    {
     "data": {
      "text/plain": [
       "{}"
      ]
     },
     "execution_count": 144,
     "metadata": {},
     "output_type": "execute_result"
    }
   ],
   "source": [
    "b"
   ]
  },
  {
   "cell_type": "code",
   "execution_count": 168,
   "metadata": {},
   "outputs": [
    {
     "data": {
      "text/plain": [
       "{-1, 0, 1, 2, 3, 4, 7, 8, 9, 53, 57, 289}"
      ]
     },
     "execution_count": 168,
     "metadata": {},
     "output_type": "execute_result"
    }
   ],
   "source": [
    "b1 = {-1, 0, 1, 2, 3, 4, 7, 8, 9, 53, 57, 289, 289, 289, 53, 53}\n",
    "type(b1)\n",
    "b1\n"
   ]
  },
  {
   "cell_type": "code",
   "execution_count": 165,
   "metadata": {},
   "outputs": [
    {
     "data": {
      "text/plain": [
       "{-1, 0, 1, 2, 3, 4, 7, 8, 9, 53, 57, 289}"
      ]
     },
     "execution_count": 165,
     "metadata": {},
     "output_type": "execute_result"
    }
   ],
   "source": [
    "b1"
   ]
  },
  {
   "cell_type": "code",
   "execution_count": 140,
   "metadata": {},
   "outputs": [
    {
     "data": {
      "text/plain": [
       "set"
      ]
     },
     "execution_count": 140,
     "metadata": {},
     "output_type": "execute_result"
    }
   ],
   "source": [
    "type(b1)"
   ]
  },
  {
   "cell_type": "code",
   "execution_count": null,
   "metadata": {},
   "outputs": [],
   "source": [
    "Dictionary"
   ]
  },
  {
   "cell_type": "code",
   "execution_count": 146,
   "metadata": {},
   "outputs": [],
   "source": [
    "s = {\"shahid\", \"karim\", \"saima\", \"aaple\", \"mango\", \"jihain\"}"
   ]
  },
  {
   "cell_type": "code",
   "execution_count": 147,
   "metadata": {},
   "outputs": [
    {
     "data": {
      "text/plain": [
       "set"
      ]
     },
     "execution_count": 147,
     "metadata": {},
     "output_type": "execute_result"
    }
   ],
   "source": [
    "type(s)"
   ]
  },
  {
   "cell_type": "code",
   "execution_count": 148,
   "metadata": {},
   "outputs": [
    {
     "data": {
      "text/plain": [
       "{'aaple', 'jihain', 'karim', 'mango', 'saima', 'shahid'}"
      ]
     },
     "execution_count": 148,
     "metadata": {},
     "output_type": "execute_result"
    }
   ],
   "source": [
    "s"
   ]
  },
  {
   "cell_type": "code",
   "execution_count": 181,
   "metadata": {},
   "outputs": [],
   "source": [
    "s_mixed = {78, 57, 89,\"shahid\", \"karim\", \"saima\", \"aaple\", \"#\",\"mango\", \"jihain\", 45, 98,29,72, \"##\"}"
   ]
  },
  {
   "cell_type": "code",
   "execution_count": 182,
   "metadata": {},
   "outputs": [
    {
     "data": {
      "text/plain": [
       "{'#',\n",
       " '##',\n",
       " 29,\n",
       " 45,\n",
       " 57,\n",
       " 72,\n",
       " 78,\n",
       " 89,\n",
       " 98,\n",
       " 'aaple',\n",
       " 'jihain',\n",
       " 'karim',\n",
       " 'mango',\n",
       " 'saima',\n",
       " 'shahid'}"
      ]
     },
     "execution_count": 182,
     "metadata": {},
     "output_type": "execute_result"
    }
   ],
   "source": [
    "s_mixed"
   ]
  },
  {
   "cell_type": "code",
   "execution_count": 189,
   "metadata": {},
   "outputs": [],
   "source": [
    "new_set= {44,4,45,48,49,49,0,\"#\", \"hi\",49,48}"
   ]
  },
  {
   "cell_type": "code",
   "execution_count": 190,
   "metadata": {},
   "outputs": [
    {
     "data": {
      "text/plain": [
       "set"
      ]
     },
     "execution_count": 190,
     "metadata": {},
     "output_type": "execute_result"
    }
   ],
   "source": [
    "type(new_set)"
   ]
  },
  {
   "cell_type": "code",
   "execution_count": 191,
   "metadata": {},
   "outputs": [
    {
     "data": {
      "text/plain": [
       "{'#', 0, 4, 44, 45, 48, 49, 'hi'}"
      ]
     },
     "execution_count": 191,
     "metadata": {},
     "output_type": "execute_result"
    }
   ],
   "source": [
    "new_set"
   ]
  },
  {
   "cell_type": "code",
   "execution_count": null,
   "metadata": {},
   "outputs": [],
   "source": []
  },
  {
   "cell_type": "code",
   "execution_count": 158,
   "metadata": {},
   "outputs": [
    {
     "data": {
      "text/plain": [
       "set"
      ]
     },
     "execution_count": 158,
     "metadata": {},
     "output_type": "execute_result"
    }
   ],
   "source": [
    "type(s_mixed)"
   ]
  },
  {
   "cell_type": "code",
   "execution_count": 179,
   "metadata": {},
   "outputs": [],
   "source": [
    "s_4 = {4,5,67,3,4,7,5,4,565,5656,\"abc\",\"##\",\"sudh\"}"
   ]
  },
  {
   "cell_type": "code",
   "execution_count": 180,
   "metadata": {
    "collapsed": true
   },
   "outputs": [
    {
     "data": {
      "text/plain": [
       "{'##', 3, 4, 5, 565, 5656, 67, 7, 'abc', 'sudh'}"
      ]
     },
     "execution_count": 180,
     "metadata": {},
     "output_type": "execute_result"
    }
   ],
   "source": [
    "s_4"
   ]
  },
  {
   "cell_type": "markdown",
   "metadata": {},
   "source": [
    "# Dictionary\n",
    "\n",
    "1.empty {}, type() will give dict--recheck\n",
    "2.duplicate key will show latest key entries value\n",
    "3.Integers can be accepted as keys\n",
    "4.special character can be accepted as keys unless quoted amd made string\n",
    "5.As value- List, Nested List, set, tuple, another dictionary are allowed(10:42)\n",
    "6. Valye cannnot be reteived with index but with index key, once the key is addressed then only iindexing is possible\n",
    "7.iteration (printing the local variable in iteration gives the key of the dictionary\n",
    "8.8.iteration (printing the local variable as Index in iteration gives the value of the dictionary\n",
    "9.new value assignemt to a existing key ca be done by indexing\n"
   ]
  },
  {
   "cell_type": "code",
   "execution_count": null,
   "metadata": {},
   "outputs": [],
   "source": [
    "#1\n"
   ]
  },
  {
   "cell_type": "code",
   "execution_count": 198,
   "metadata": {},
   "outputs": [],
   "source": [
    "#2 duplicate key will show latest key entries value\n",
    "k= {'name' : \"shahid\", 'lastname':\"name\", '1': \"saiama\"}"
   ]
  },
  {
   "cell_type": "code",
   "execution_count": 200,
   "metadata": {},
   "outputs": [
    {
     "data": {
      "text/plain": [
       "{'1': 'saiama', '2': 'karim'}"
      ]
     },
     "execution_count": 200,
     "metadata": {},
     "output_type": "execute_result"
    }
   ],
   "source": [
    "k"
   ]
  },
  {
   "cell_type": "code",
   "execution_count": 201,
   "metadata": {},
   "outputs": [],
   "source": [
    "#3.Integers can be accepted as keys\n",
    "k_int= {1 : \"shahid\", 2:\"karim\"}"
   ]
  },
  {
   "cell_type": "code",
   "execution_count": 209,
   "metadata": {},
   "outputs": [],
   "source": [
    "#4.special character can be accepted as keys unless quoted amd made string\n",
    "k_splchar= {1 : \"shahid\", 2:\"karim\", \"#$*\" : \"quoted value\"}"
   ]
  },
  {
   "cell_type": "code",
   "execution_count": 211,
   "metadata": {},
   "outputs": [
    {
     "name": "stdout",
     "output_type": "stream",
     "text": [
      "1\n",
      "2\n",
      "#$*\n"
     ]
    }
   ],
   "source": [
    "# 4.iteration (printing the local variable in iteration gives the key)\n",
    "for i in k_splchar:\n",
    "    print(i)"
   ]
  },
  {
   "cell_type": "code",
   "execution_count": 214,
   "metadata": {},
   "outputs": [
    {
     "name": "stdout",
     "output_type": "stream",
     "text": [
      "shahid\n",
      "karim\n",
      "quoted value\n"
     ]
    }
   ],
   "source": [
    "# 8.iteration (printing the local variable as Index in iteration gives the value)\n",
    "for i in k_splchar:\n",
    "    print(k_splchar[i])"
   ]
  }
 ],
 "metadata": {
  "kernelspec": {
   "display_name": "Python 3",
   "language": "python",
   "name": "python3"
  },
  "language_info": {
   "codemirror_mode": {
    "name": "ipython",
    "version": 3
   },
   "file_extension": ".py",
   "mimetype": "text/x-python",
   "name": "python",
   "nbconvert_exporter": "python",
   "pygments_lexer": "ipython3",
   "version": "3.7.6"
  }
 },
 "nbformat": 4,
 "nbformat_minor": 4
}
